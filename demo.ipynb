{
 "cells": [
  {
   "cell_type": "code",
   "execution_count": 7,
   "id": "40d9cf72",
   "metadata": {},
   "outputs": [
    {
     "name": "stdout",
     "output_type": "stream",
     "text": [
      "• Amazon Products (gd_l7q7dkf244hwjntr0)\n",
      "  Amazon product data with pricing, reviews, and seller information\n",
      "  Fields: 52\n",
      "• Amazon Walmart Comparison (gd_m4l6s4mn2g2rkx9lia)\n",
      "  Cross-platform product comparison between Amazon and Walmart\n",
      "  Fields: 63\n",
      "• Shopee Products (gd_lk122xxgf86xf97py)\n",
      "  Comprehensive product data from Shopee e-commerce platform in Southeast Asia.\n",
      "  Fields: 36\n"
     ]
    }
   ],
   "source": [
    "from util import BrightDataFilter\n",
    "\n",
    "# List all available datasets\n",
    "datasets = BrightDataFilter.list_available_datasets()\n",
    "for dataset in datasets:\n",
    "    print(f\"• {dataset['name']} ({dataset['dataset_id']})\")\n",
    "    print(f\"  {dataset['description']}\")\n",
    "    print(f\"  Fields: {dataset['field_count']}\")\n",
    "    "
   ]
  },
  {
   "cell_type": "code",
   "execution_count": 1,
   "id": "4d3f279d",
   "metadata": {},
   "outputs": [
    {
     "ename": "NameError",
     "evalue": "name 'BrightDataFilter' is not defined",
     "output_type": "error",
     "traceback": [
      "\u001b[0;31m---------------------------------------------------------------------------\u001b[0m",
      "\u001b[0;31mNameError\u001b[0m                                 Traceback (most recent call last)",
      "Cell \u001b[0;32mIn[1], line 5\u001b[0m\n\u001b[1;32m      1\u001b[0m \u001b[38;5;66;03m# New Combined API: Dataset + Filter Fields\u001b[39;00m\n\u001b[1;32m      2\u001b[0m \u001b[38;5;66;03m# No need to import separate field objects!\u001b[39;00m\n\u001b[1;32m      3\u001b[0m \n\u001b[1;32m      4\u001b[0m \u001b[38;5;66;03m# Create dataset connections\u001b[39;00m\n\u001b[0;32m----> 5\u001b[0m amazon_products \u001b[38;5;241m=\u001b[39m \u001b[43mBrightDataFilter\u001b[49m(\u001b[38;5;124m\"\u001b[39m\u001b[38;5;124mamazon_products\u001b[39m\u001b[38;5;124m\"\u001b[39m)\n\u001b[1;32m      6\u001b[0m shopee \u001b[38;5;241m=\u001b[39m BrightDataFilter(\u001b[38;5;124m\"\u001b[39m\u001b[38;5;124mshopee\u001b[39m\u001b[38;5;124m\"\u001b[39m)\n\u001b[1;32m      7\u001b[0m amazon_walmart \u001b[38;5;241m=\u001b[39m BrightDataFilter(\u001b[38;5;124m\"\u001b[39m\u001b[38;5;124mamazon_walmart\u001b[39m\u001b[38;5;124m\"\u001b[39m)\n",
      "\u001b[0;31mNameError\u001b[0m: name 'BrightDataFilter' is not defined"
     ]
    }
   ],
   "source": [
    "# New Combined API: Dataset + Filter Fields\n",
    "# No need to import separate field objects!\n",
    "\n",
    "# Create dataset connections\n",
    "amazon_products = BrightDataFilter(\"amazon_products\")\n",
    "shopee = BrightDataFilter(\"shopee\")\n",
    "amazon_walmart = BrightDataFilter(\"amazon_walmart\")\n",
    "\n",
    "print(\"✅ Dataset connections created with built-in filter fields\")\n",
    "print(f\"Amazon Products: {amazon_products.dataset_id}\")\n",
    "print(f\"Shopee: {shopee.dataset_id}\")\n",
    "print(f\"Amazon-Walmart: {amazon_walmart.dataset_id}\")\n",
    "\n",
    "# Each dataset provides its own filter fields\n",
    "print(\"\\n📊 Available filter fields:\")\n",
    "print(f\"Amazon fields: {len(amazon_products.filter.get_field_names())} fields\")\n",
    "print(f\"Shopee fields: {len(shopee.filter.get_field_names())} fields\")\n",
    "print(f\"Amazon-Walmart fields: {len(amazon_walmart.filter.get_field_names())} fields\")\n"
   ]
  },
  {
   "cell_type": "code",
   "execution_count": null,
   "id": "038f19bc",
   "metadata": {},
   "outputs": [],
   "source": [
    "# Create filters using the dataset's built-in filter fields\n",
    "# Much cleaner and more intuitive!\n",
    "\n",
    "# Amazon Products filters\n",
    "amazon_high_rated = amazon_products.filter.rating >= 4.5\n",
    "amazon_affordable = amazon_products.filter.final_price <= 100\n",
    "amazon_apple_products = amazon_products.filter.brand == \"Apple\"\n",
    "\n",
    "# Shopee filters  \n",
    "shopee_popular = shopee.filter.rating >= 4.0\n",
    "shopee_cheap = shopee.filter.price <= 50\n",
    "\n",
    "# Amazon-Walmart comparison filters\n",
    "price_difference = amazon_walmart.filter.price_difference > 20\n",
    "\n",
    "print(\"✅ Filters created using dataset's built-in filter fields\")\n",
    "print(f\"Amazon high-rated: {amazon_high_rated}\")\n",
    "print(f\"Amazon affordable: {amazon_affordable}\")\n",
    "print(f\"Amazon Apple products: {amazon_apple_products}\")\n",
    "print(f\"Shopee popular: {shopee_popular}\")\n",
    "print(f\"Price difference: {price_difference}\")\n"
   ]
  },
  {
   "cell_type": "code",
   "execution_count": null,
   "id": "68f042ac",
   "metadata": {},
   "outputs": [],
   "source": [
    "# Complex filters using logical operators\n",
    "# All using the same dataset's filter fields\n",
    "\n",
    "# Complex Amazon filter\n",
    "amazon_complex = (\n",
    "    (amazon_products.filter.rating >= 4.0) &\n",
    "    (amazon_products.filter.final_price <= 200) &\n",
    "    (amazon_products.filter.brand == \"Apple\") &\n",
    "    (amazon_products.filter.is_available.is_true())\n",
    ")\n",
    "\n",
    "# Complex Shopee filter\n",
    "shopee_complex = (\n",
    "    (shopee.filter.rating >= 4.0) &\n",
    "    (shopee.filter.price <= 100) &\n",
    "    (shopee.filter.category == \"Electronics\")\n",
    ")\n",
    "\n",
    "print(\"✅ Complex filters created\")\n",
    "print(f\"Amazon complex filter: {amazon_complex}\")\n",
    "print(f\"Number of conditions: {len(amazon_complex.filters)}\")\n",
    "print(f\"Shopee complex filter: {shopee_complex}\")\n",
    "print(f\"Number of conditions: {len(shopee_complex.filters)}\")\n"
   ]
  },
  {
   "cell_type": "code",
   "execution_count": null,
   "id": "65f85238",
   "metadata": {},
   "outputs": [
    {
     "ename": "NameError",
     "evalue": "name 'amazon_filter' is not defined",
     "output_type": "error",
     "traceback": [
      "\u001b[0;31m---------------------------------------------------------------------------\u001b[0m",
      "\u001b[0;31mNameError\u001b[0m                                 Traceback (most recent call last)",
      "Cell \u001b[0;32mIn[6], line 2\u001b[0m\n\u001b[1;32m      1\u001b[0m \u001b[38;5;66;03m# Get information about the current dataset\u001b[39;00m\n\u001b[0;32m----> 2\u001b[0m info \u001b[38;5;241m=\u001b[39m \u001b[43mamazon_filter\u001b[49m\u001b[38;5;241m.\u001b[39mget_dataset_info()\n\u001b[1;32m      3\u001b[0m \u001b[38;5;28mprint\u001b[39m(\u001b[38;5;124mf\u001b[39m\u001b[38;5;124m\"\u001b[39m\u001b[38;5;124mDataset: \u001b[39m\u001b[38;5;132;01m{\u001b[39;00minfo[\u001b[38;5;124m'\u001b[39m\u001b[38;5;124mname\u001b[39m\u001b[38;5;124m'\u001b[39m]\u001b[38;5;132;01m}\u001b[39;00m\u001b[38;5;124m\"\u001b[39m)\n\u001b[1;32m      4\u001b[0m \u001b[38;5;28mprint\u001b[39m(\u001b[38;5;124mf\u001b[39m\u001b[38;5;124m\"\u001b[39m\u001b[38;5;124mAvailable fields: \u001b[39m\u001b[38;5;132;01m{\u001b[39;00m\u001b[38;5;28mlen\u001b[39m(info[\u001b[38;5;124m'\u001b[39m\u001b[38;5;124mavailable_fields\u001b[39m\u001b[38;5;124m'\u001b[39m])\u001b[38;5;132;01m}\u001b[39;00m\u001b[38;5;124m\"\u001b[39m)\n",
      "\u001b[0;31mNameError\u001b[0m: name 'amazon_filter' is not defined"
     ]
    }
   ],
   "source": [
    "# Get information about the current dataset\n",
    "\n",
    "info = amazon_filter.get_dataset_info()\n",
    "print(f\"Dataset: {info['name']}\")\n",
    "print(f\"Available fields: {len(info['available_fields'])}\")\n",
    "\n",
    "# Get field reference for current dataset\n",
    "field_ref = amazon_filter.get_field_reference()\n",
    "for field_name, description in field_ref.items():\n",
    "    print(f\"{field_name}: {description}\")"
   ]
  }
 ],
 "metadata": {
  "kernelspec": {
   "display_name": "base",
   "language": "python",
   "name": "python3"
  },
  "language_info": {
   "codemirror_mode": {
    "name": "ipython",
    "version": 3
   },
   "file_extension": ".py",
   "mimetype": "text/x-python",
   "name": "python",
   "nbconvert_exporter": "python",
   "pygments_lexer": "ipython3",
   "version": "3.10.14"
  }
 },
 "nbformat": 4,
 "nbformat_minor": 5
}
