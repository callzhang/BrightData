{
 "cells": [
  {
   "cell_type": "code",
   "execution_count": 7,
   "id": "4d3f279d",
   "metadata": {},
   "outputs": [
    {
     "name": "stdout",
     "output_type": "stream",
     "text": [
      "✅ Dataset connections created with built-in filter fields\n",
      "Amazon Products: gd_l7q7dkf244hwjntr0\n",
      "Shopee: gd_lk122xxgf86xf97py\n",
      "Amazon-Walmart: gd_m4l6s4mn2g2rkx9lia\n",
      "\n",
      "📊 Available filter fields:\n",
      "Amazon fields: 52 fields\n",
      "Shopee fields: 36 fields\n",
      "Amazon-Walmart fields: 63 fields\n"
     ]
    }
   ],
   "source": [
    "# New Combined API: Dataset + Filter Fields\n",
    "# No need to import separate field objects!\n",
    "from util import BrightDataFilter\n",
    "# Create dataset connections\n",
    "amazon_products = BrightDataFilter(\"amazon_products\")\n",
    "shopee = BrightDataFilter(\"shopee\")\n",
    "amazon_walmart = BrightDataFilter(\"amazon_walmart\")\n",
    "\n",
    "print(\"✅ Dataset connections created with built-in filter fields\")\n",
    "print(f\"Amazon Products: {amazon_products.dataset_id}\")\n",
    "print(f\"Shopee: {shopee.dataset_id}\")\n",
    "print(f\"Amazon-Walmart: {amazon_walmart.dataset_id}\")\n",
    "\n",
    "# Each dataset provides its own filter fields\n",
    "print(\"\\n📊 Available filter fields:\")\n",
    "print(f\"Amazon fields: {len(amazon_products.filter.get_field_names())} fields\")\n",
    "print(f\"Shopee fields: {len(shopee.filter.get_field_names())} fields\")\n",
    "print(f\"Amazon-Walmart fields: {len(amazon_walmart.filter.get_field_names())} fields\")\n"
   ]
  },
  {
   "cell_type": "code",
   "execution_count": 6,
   "id": "038f19bc",
   "metadata": {},
   "outputs": [
    {
     "name": "stdout",
     "output_type": "stream",
     "text": [
      "✅ Filters created using dataset's built-in filter fields\n",
      "Amazon high-rated: rating >= 4.5\n",
      "Amazon affordable: final_price <= 100\n",
      "Amazon Apple products: brand = Apple\n",
      "Shopee popular: rating >= 4.0\n",
      "Shopee cheap: final_price <= 50\n",
      "Price difference: price_difference > 20\n"
     ]
    }
   ],
   "source": [
    "# Create filters using the dataset's built-in filter fields\n",
    "# Much cleaner and more intuitive!\n",
    "\n",
    "# Amazon Products filters\n",
    "amazon_high_rated = amazon_products.filter.rating >= 4.5\n",
    "amazon_affordable = amazon_products.filter.final_price <= 100\n",
    "amazon_apple_products = amazon_products.filter.brand == \"Apple\"\n",
    "\n",
    "# Shopee filters (using correct field names)\n",
    "shopee_popular = shopee.filter.rating >= 4.0\n",
    "shopee_cheap = shopee.filter.final_price <= 50\n",
    "\n",
    "# Amazon-Walmart comparison filters\n",
    "price_difference = amazon_walmart.filter.price_difference > 20\n",
    "\n",
    "print(\"✅ Filters created using dataset's built-in filter fields\")\n",
    "print(f\"Amazon high-rated: {amazon_high_rated}\")\n",
    "print(f\"Amazon affordable: {amazon_affordable}\")\n",
    "print(f\"Amazon Apple products: {amazon_apple_products}\")\n",
    "print(f\"Shopee popular: {shopee_popular}\")\n",
    "print(f\"Shopee cheap: {shopee_cheap}\")\n",
    "print(f\"Price difference: {price_difference}\")\n"
   ]
  },
  {
   "cell_type": "code",
   "execution_count": 3,
   "id": "68f042ac",
   "metadata": {},
   "outputs": [
    {
     "name": "stdout",
     "output_type": "stream",
     "text": [
      "✅ Complex filters created\n",
      "Amazon complex filter: (\n",
      "  rating >= 4.0\n",
      "  AND\n",
      "  final_price <= 200\n",
      "  AND\n",
      "  brand = Apple\n",
      "  AND\n",
      "  is_available = True\n",
      ")\n",
      "Number of conditions: 4\n",
      "Shopee complex filter: (\n",
      "  rating >= 4.0\n",
      "  AND\n",
      "  final_price <= 100\n",
      "  AND\n",
      "  is_available = True\n",
      ")\n",
      "Number of conditions: 3\n"
     ]
    }
   ],
   "source": [
    "# Complex filters using logical operators\n",
    "# All using the same dataset's filter fields\n",
    "\n",
    "# Complex Amazon filter\n",
    "amazon_complex = (\n",
    "    (amazon_products.filter.rating >= 4.0) &\n",
    "    (amazon_products.filter.final_price <= 200) &\n",
    "    (amazon_products.filter.brand == \"Apple\") &\n",
    "    (amazon_products.filter.is_available.is_true())\n",
    ")\n",
    "\n",
    "# Complex Shopee filter (using correct field names)\n",
    "shopee_complex = (\n",
    "    (shopee.filter.rating >= 4.0) &\n",
    "    (shopee.filter.final_price <= 100) &\n",
    "    (shopee.filter.is_available.is_true())\n",
    ")\n",
    "\n",
    "print(\"✅ Complex filters created\")\n",
    "print(f\"Amazon complex filter: {amazon_complex}\")\n",
    "print(f\"Number of conditions: {len(amazon_complex.filters)}\")\n",
    "print(f\"Shopee complex filter: {shopee_complex}\")\n",
    "print(f\"Number of conditions: {len(shopee_complex.filters)}\")\n"
   ]
  },
  {
   "cell_type": "code",
   "execution_count": 5,
   "id": "65f85238",
   "metadata": {},
   "outputs": [
    {
     "name": "stdout",
     "output_type": "stream",
     "text": [
      "Dataset: Amazon Products\n",
      "Available fields: 52\n",
      "\n",
      "📋 Field Reference (showing first 10 fields):\n",
      "title: Product title\n",
      "asin: Unique identifier for each product\n",
      "parent_asin: Parent ASIN of the product\n",
      "brand: Product brand\n",
      "description: A brief description of the product\n",
      "categories: Product categories\n",
      "initial_price: Initial price\n",
      "final_price: Final price of the product\n",
      "final_price_high: Highest value of the final price when it is a range\n",
      "currency: Currency of the product\n",
      "... and 42 more fields\n"
     ]
    }
   ],
   "source": [
    "# Get information about the current dataset\n",
    "\n",
    "info = amazon_products.get_dataset_info()\n",
    "print(f\"Dataset: {info['name']}\")\n",
    "print(f\"Available fields: {len(info['available_fields'])}\")\n",
    "\n",
    "# Get field reference for current dataset\n",
    "field_ref = amazon_products.get_field_reference()\n",
    "print(f\"\\n📋 Field Reference (showing first 10 fields):\")\n",
    "for i, (field_name, description) in enumerate(field_ref.items()):\n",
    "    if i >= 10:  # Show only first 10 fields\n",
    "        print(f\"... and {len(field_ref) - 10} more fields\")\n",
    "        break\n",
    "    print(f\"{field_name}: {description}\")"
   ]
  }
 ],
 "metadata": {
  "kernelspec": {
   "display_name": "base",
   "language": "python",
   "name": "python3"
  },
  "language_info": {
   "codemirror_mode": {
    "name": "ipython",
    "version": 3
   },
   "file_extension": ".py",
   "mimetype": "text/x-python",
   "name": "python",
   "nbconvert_exporter": "python",
   "pygments_lexer": "ipython3",
   "version": "3.10.14"
  }
 },
 "nbformat": 4,
 "nbformat_minor": 5
}
