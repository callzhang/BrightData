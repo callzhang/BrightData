{
 "cells": [
  {
   "cell_type": "code",
   "execution_count": 5,
   "id": "40d9cf72",
   "metadata": {},
   "outputs": [
    {
     "name": "stdout",
     "output_type": "stream",
     "text": [
      "• Amazon Products (gd_l7q7dkf244hwjntr0)\n",
      "  Amazon product data with pricing, reviews, and seller information\n",
      "  Fields: 52\n",
      "• Amazon Walmart Comparison (gd_m4l6s4mn2g2rkx9lia)\n",
      "  Cross-platform product comparison between Amazon and Walmart\n",
      "  Fields: 63\n",
      "• Shopee Products (gd_lk122xxgf86xf97py)\n",
      "  Comprehensive product data from Shopee e-commerce platform in Southeast Asia.\n",
      "  Fields: 36\n"
     ]
    }
   ],
   "source": [
    "from util import BrightDataFilter\n",
    "\n",
    "# List all available datasets\n",
    "datasets = BrightDataFilter.list_available_datasets()\n",
    "for dataset in datasets:\n",
    "    print(f\"• {dataset['name']} ({dataset['dataset_id']})\")\n",
    "    print(f\"  {dataset['description']}\")\n",
    "    print(f\"  Fields: {dataset['field_count']}\")\n",
    "    "
   ]
  },
  {
   "cell_type": "code",
   "execution_count": null,
   "id": "65f85238",
   "metadata": {},
   "outputs": [
    {
     "ename": "NameError",
     "evalue": "name 'amazon_filter' is not defined",
     "output_type": "error",
     "traceback": [
      "\u001b[0;31m---------------------------------------------------------------------------\u001b[0m",
      "\u001b[0;31mNameError\u001b[0m                                 Traceback (most recent call last)",
      "Cell \u001b[0;32mIn[6], line 2\u001b[0m\n\u001b[1;32m      1\u001b[0m \u001b[38;5;66;03m# Get information about the current dataset\u001b[39;00m\n\u001b[0;32m----> 2\u001b[0m info \u001b[38;5;241m=\u001b[39m \u001b[43mamazon_filter\u001b[49m\u001b[38;5;241m.\u001b[39mget_dataset_info()\n\u001b[1;32m      3\u001b[0m \u001b[38;5;28mprint\u001b[39m(\u001b[38;5;124mf\u001b[39m\u001b[38;5;124m\"\u001b[39m\u001b[38;5;124mDataset: \u001b[39m\u001b[38;5;132;01m{\u001b[39;00minfo[\u001b[38;5;124m'\u001b[39m\u001b[38;5;124mname\u001b[39m\u001b[38;5;124m'\u001b[39m]\u001b[38;5;132;01m}\u001b[39;00m\u001b[38;5;124m\"\u001b[39m)\n\u001b[1;32m      4\u001b[0m \u001b[38;5;28mprint\u001b[39m(\u001b[38;5;124mf\u001b[39m\u001b[38;5;124m\"\u001b[39m\u001b[38;5;124mAvailable fields: \u001b[39m\u001b[38;5;132;01m{\u001b[39;00m\u001b[38;5;28mlen\u001b[39m(info[\u001b[38;5;124m'\u001b[39m\u001b[38;5;124mavailable_fields\u001b[39m\u001b[38;5;124m'\u001b[39m])\u001b[38;5;132;01m}\u001b[39;00m\u001b[38;5;124m\"\u001b[39m)\n",
      "\u001b[0;31mNameError\u001b[0m: name 'amazon_filter' is not defined"
     ]
    }
   ],
   "source": [
    "# Get information about the current dataset\n",
    "\n",
    "info = amazon_filter.get_dataset_info()\n",
    "print(f\"Dataset: {info['name']}\")\n",
    "print(f\"Available fields: {len(info['available_fields'])}\")\n",
    "\n",
    "# Get field reference for current dataset\n",
    "field_ref = amazon_filter.get_field_reference()\n",
    "for field_name, description in field_ref.items():\n",
    "    print(f\"{field_name}: {description}\")"
   ]
  }
 ],
 "metadata": {
  "kernelspec": {
   "display_name": "base",
   "language": "python",
   "name": "python3"
  },
  "language_info": {
   "codemirror_mode": {
    "name": "ipython",
    "version": 3
   },
   "file_extension": ".py",
   "mimetype": "text/x-python",
   "name": "python",
   "nbconvert_exporter": "python",
   "pygments_lexer": "ipython3",
   "version": "3.10.14"
  }
 },
 "nbformat": 4,
 "nbformat_minor": 5
}
